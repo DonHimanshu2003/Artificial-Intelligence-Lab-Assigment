{
  "nbformat": 4,
  "nbformat_minor": 0,
  "metadata": {
    "colab": {
      "name": "Himanshu Baweja_E20CSE212_Week 11_lab 1.ipynb",
      "provenance": [],
      "collapsed_sections": []
    },
    "kernelspec": {
      "name": "python3",
      "display_name": "Python 3"
    },
    "language_info": {
      "name": "python"
    }
  },
  "cells": [
    {
      "cell_type": "markdown",
      "source": [
        "## Himanshu Baweja\n",
        "\n",
        "## E20CSE212\n",
        "\n",
        "## Week 10 Lab 2"
      ],
      "metadata": {
        "id": "t5WljGglBDkL"
      }
    },
    {
      "cell_type": "code",
      "execution_count": 1,
      "metadata": {
        "id": "ARpPR0vYAt5T"
      },
      "outputs": [],
      "source": [
        "from sklearn.feature_extraction.text import TfidfVectorizer\n",
        "from sklearn.datasets import fetch_20newsgroups\n",
        "import numpy as np"
      ]
    },
    {
      "cell_type": "code",
      "source": [
        "categories = [\n",
        "    \"alt.atheism\",\n",
        "    \"talk.religion.misc\",\n",
        "    \"comp.graphics\",\n",
        "    \"sci.space\",\n",
        "]\n",
        "\n",
        "# complete the below statement(s). Take parameter subset=\"all\" \n",
        "dataset = fetch_20newsgroups(subset='all', categories=categories, \n",
        "                             shuffle=False, remove=('headers', 'footers', 'quotes'))\n",
        "labels = dataset.target\n",
        "true_k = np.unique(labels).shape[0]\n",
        "\n",
        "vectorizer = TfidfVectorizer()\n",
        "\n",
        "data_tfidf = vectorizer.fit_transform(dataset.data)"
      ],
      "metadata": {
        "id": "mb43RjOWBQCu"
      },
      "execution_count": 2,
      "outputs": []
    },
    {
      "cell_type": "code",
      "source": [
        "def get_initial_centroids(data, k, seed=None):\n",
        "    '''Randomly choose k data points as initial centroids'''\n",
        "    if seed is not None: # useful for obtaining consistent results\n",
        "        np.random.seed(seed)\n",
        "    n = data.shape[0] # number of data points\n",
        "        \n",
        "    # Pick K indices from range [0, N) using randint.\n",
        "    rand_indices = np.random.randint(0, n, k)\n",
        "    \n",
        "   \n",
        "    # As long as at least one document in a cluster contains a word,\n",
        "    # it will carry a nonzero weight in the TF-IDF vector of the centroid.\n",
        "    centroids = data[rand_indices,:].toarray()\n",
        "    \n",
        "    return centroids"
      ],
      "metadata": {
        "id": "1WtLuMgoBP_V"
      },
      "execution_count": 3,
      "outputs": []
    },
    {
      "cell_type": "markdown",
      "source": [
        "After initialization, the k-means algorithm iterates between the following two steps:\n",
        "1. Assign each data point to the closest centroid.\n",
        "$$\n",
        "z_i \\gets \\mathrm{argmin}_j \\|\\mu_j - \\mathbf{x}_i\\|^2\n",
        "$$\n",
        "2. Revise centroids as the mean of the assigned data points.\n",
        "$$\n",
        "\\mu_j \\gets \\frac{1}{n_j}\\sum_{i:z_i=j} \\mathbf{x}_i\n",
        "$$"
      ],
      "metadata": {
        "id": "01QL-LITBWFn"
      }
    },
    {
      "cell_type": "code",
      "source": [
        "data_tfidf.shape"
      ],
      "metadata": {
        "colab": {
          "base_uri": "https://localhost:8080/"
        },
        "id": "GQFo7_YQBP8m",
        "outputId": "6d129ee7-2903-4dd2-f4e9-9650135ff4de"
      },
      "execution_count": 4,
      "outputs": [
        {
          "output_type": "execute_result",
          "data": {
            "text/plain": [
              "(3387, 33836)"
            ]
          },
          "metadata": {},
          "execution_count": 4
        }
      ]
    },
    {
      "cell_type": "code",
      "source": [
        "from sklearn.metrics import pairwise_distances\n",
        "\n",
        "# Get the TF-IDF vectors for documents 100 through 102.\n",
        "queries = data_tfidf[100:102,:]\n",
        "\n",
        "# Compute pairwise distances from every data point to each query vector.\n",
        "dist = pairwise_distances(data_tfidf, queries, metric='euclidean')\n",
        "\n",
        "print(dist)"
      ],
      "metadata": {
        "colab": {
          "base_uri": "https://localhost:8080/"
        },
        "id": "-RM2k4D4BP5E",
        "outputId": "ed12fd14-1142-437f-9277-659b599dc1d6"
      },
      "execution_count": 5,
      "outputs": [
        {
          "output_type": "stream",
          "name": "stdout",
          "text": [
            "[[1.38066901 1.        ]\n",
            " [1.35581767 1.        ]\n",
            " [1.37696773 1.        ]\n",
            " ...\n",
            " [1.39380324 1.        ]\n",
            " [1.35955448 1.        ]\n",
            " [1.37841014 1.        ]]\n"
          ]
        }
      ]
    },
    {
      "cell_type": "code",
      "source": [
        "dist.shape"
      ],
      "metadata": {
        "colab": {
          "base_uri": "https://localhost:8080/"
        },
        "id": "hU9rBxiVBP1z",
        "outputId": "f59176ac-f5a7-4f3b-f347-67d7f531d343"
      },
      "execution_count": 6,
      "outputs": [
        {
          "output_type": "execute_result",
          "data": {
            "text/plain": [
              "(3387, 2)"
            ]
          },
          "metadata": {},
          "execution_count": 6
        }
      ]
    },
    {
      "cell_type": "code",
      "source": [
        "closest_cluster = np.argmin(dist, axis = 1)\n",
        "closest_cluster"
      ],
      "metadata": {
        "colab": {
          "base_uri": "https://localhost:8080/"
        },
        "id": "dd33SlQlBjmK",
        "outputId": "b2f4a085-003f-4523-f161-9ba0f9be4bbb"
      },
      "execution_count": 7,
      "outputs": [
        {
          "output_type": "execute_result",
          "data": {
            "text/plain": [
              "array([1, 1, 1, ..., 1, 1, 1])"
            ]
          },
          "metadata": {},
          "execution_count": 7
        }
      ]
    },
    {
      "cell_type": "code",
      "source": [
        "def assign_clusters(data, centroids):\n",
        "    \n",
        "    # Compute distances between each data point and the set of centroids:\n",
        "    # Fill in the blank (RHS only)\n",
        "    distances_from_centroids = pairwise_distances(data, centroids, metric='euclidean')\n",
        "\n",
        "    \n",
        "    # Compute cluster assignments for each data point:\n",
        "    # Fill in the blank (RHS only)\n",
        "    cluster_assignment = np.argmin(distances_from_centroids, axis = 1)\n",
        "    \n",
        "    return cluster_assignment"
      ],
      "metadata": {
        "id": "FWPzRHKDBjim"
      },
      "execution_count": 8,
      "outputs": []
    },
    {
      "cell_type": "code",
      "source": [
        "data = np.array([[1., 2., 0.],\n",
        "                 [0., 0., 0.],\n",
        "                 [2., 2., 0.]])\n",
        "centroids = np.array([[0.5, 0.5, 0.],\n",
        "                      [0., -0.5, 0.]])"
      ],
      "metadata": {
        "id": "9pBGkitfBjfR"
      },
      "execution_count": 9,
      "outputs": []
    },
    {
      "cell_type": "code",
      "source": [
        "cluster_assignment = assign_clusters(data, centroids)\n",
        "print(cluster_assignment)"
      ],
      "metadata": {
        "colab": {
          "base_uri": "https://localhost:8080/"
        },
        "id": "lJo0MwfYBjcP",
        "outputId": "9ab687a7-8678-4793-a6e3-aa09b78b6cb7"
      },
      "execution_count": 10,
      "outputs": [
        {
          "output_type": "stream",
          "name": "stdout",
          "text": [
            "[0 1 0]\n"
          ]
        }
      ]
    },
    {
      "cell_type": "code",
      "source": [
        "cluster_assignment==1"
      ],
      "metadata": {
        "colab": {
          "base_uri": "https://localhost:8080/"
        },
        "id": "uYDFYyHVBsd1",
        "outputId": "c2b37c69-a305-481c-cb99-ceb068bdc643"
      },
      "execution_count": 11,
      "outputs": [
        {
          "output_type": "execute_result",
          "data": {
            "text/plain": [
              "array([False,  True, False])"
            ]
          },
          "metadata": {},
          "execution_count": 11
        }
      ]
    },
    {
      "cell_type": "code",
      "source": [
        "cluster_assignment==0"
      ],
      "metadata": {
        "colab": {
          "base_uri": "https://localhost:8080/"
        },
        "id": "8gHUzP15Bsad",
        "outputId": "c2400a69-5710-4930-d6b2-beb005c7fe73"
      },
      "execution_count": 12,
      "outputs": [
        {
          "output_type": "execute_result",
          "data": {
            "text/plain": [
              "array([ True, False,  True])"
            ]
          },
          "metadata": {},
          "execution_count": 12
        }
      ]
    },
    {
      "cell_type": "code",
      "source": [
        "data[cluster_assignment==1]"
      ],
      "metadata": {
        "colab": {
          "base_uri": "https://localhost:8080/"
        },
        "id": "cbrCLwVRBsXN",
        "outputId": "6b1a7f30-eb68-4fc2-ed63-4e74c2f3aed2"
      },
      "execution_count": 13,
      "outputs": [
        {
          "output_type": "execute_result",
          "data": {
            "text/plain": [
              "array([[0., 0., 0.]])"
            ]
          },
          "metadata": {},
          "execution_count": 13
        }
      ]
    },
    {
      "cell_type": "code",
      "source": [
        "data[cluster_assignment==1]"
      ],
      "metadata": {
        "colab": {
          "base_uri": "https://localhost:8080/"
        },
        "id": "jA4NZuTIBsUd",
        "outputId": "cf868b76-5c3d-49ed-ed14-6872d4420afb"
      },
      "execution_count": 14,
      "outputs": [
        {
          "output_type": "execute_result",
          "data": {
            "text/plain": [
              "array([[0., 0., 0.]])"
            ]
          },
          "metadata": {},
          "execution_count": 14
        }
      ]
    },
    {
      "cell_type": "code",
      "source": [
        "data[cluster_assignment==0].mean(axis=0)"
      ],
      "metadata": {
        "colab": {
          "base_uri": "https://localhost:8080/"
        },
        "id": "y5RzDubjB2C5",
        "outputId": "b6d978d9-7a15-4901-bb8d-b30e16908b2a"
      },
      "execution_count": 15,
      "outputs": [
        {
          "output_type": "execute_result",
          "data": {
            "text/plain": [
              "array([1.5, 2. , 0. ])"
            ]
          },
          "metadata": {},
          "execution_count": 15
        }
      ]
    },
    {
      "cell_type": "code",
      "source": [
        "def revise_centroids(data, k, cluster_assignment):\n",
        "    new_centroids = []\n",
        "    for i in range(k):\n",
        "        # Select all data points that belong to cluster i. Fill in the blank (RHS only)\n",
        "        member_data_points = data[cluster_assignment==i]\n",
        "        # Compute the mean of the data points. Fill in the blank (RHS only)\n",
        "        centroid = data[cluster_assignment==i].mean(axis=0)\n",
        "        \n",
        "        # Convert numpy.matrix type to numpy.ndarray type\n",
        "        centroid = centroid.A1\n",
        "        new_centroids.append(centroid)\n",
        "    new_centroids = np.array(new_centroids)\n",
        "    \n",
        "    return new_centroids"
      ],
      "metadata": {
        "id": "mnscyWx4B18Z"
      },
      "execution_count": 16,
      "outputs": []
    },
    {
      "cell_type": "code",
      "source": [
        "result = revise_centroids(data_tfidf[0:100:10], 3, np.array([0, 1, 1, 0, 0, 2, 0, 2, 2, 1]))\n",
        "if np.allclose(result[0], np.mean(data_tfidf[[0,30,40,60]].toarray(), axis=0)) and \\\n",
        "   np.allclose(result[1], np.mean(data_tfidf[[10,20,90]].toarray(), axis=0))   and \\\n",
        "   np.allclose(result[2], np.mean(data_tfidf[[50,70,80]].toarray(), axis=0)):\n",
        "    print('Pass')\n",
        "else:\n",
        "    print('Check your code')"
      ],
      "metadata": {
        "colab": {
          "base_uri": "https://localhost:8080/"
        },
        "id": "E6WkLkGjB141",
        "outputId": "3d7629a0-6f3b-41de-cf5e-64a05b34f3f9"
      },
      "execution_count": 17,
      "outputs": [
        {
          "output_type": "stream",
          "name": "stdout",
          "text": [
            "Pass\n"
          ]
        }
      ]
    },
    {
      "cell_type": "code",
      "source": [
        "def compute_heterogeneity(data, k, centroids, cluster_assignment):\n",
        "    \n",
        "    heterogeneity = 0.0\n",
        "    for i in range(k):\n",
        "        \n",
        "        # Select all data points that belong to cluster i. Fill in the blank (RHS only)\n",
        "        member_data_points = data[cluster_assignment==i, :]\n",
        "        \n",
        "        if member_data_points.shape[0] > 0: # check if i-th cluster is non-empty\n",
        "            # Compute distances from centroid to data points (RHS only)\n",
        "            distances = pairwise_distances(member_data_points, [centroids[i]], metric='euclidean')\n",
        "            squared_distances = distances**2\n",
        "            heterogeneity += np.sum(squared_distances)\n",
        "        \n",
        "    return heterogeneity"
      ],
      "metadata": {
        "id": "X_CLOiHWB116"
      },
      "execution_count": 18,
      "outputs": []
    },
    {
      "cell_type": "code",
      "source": [
        "compute_heterogeneity(data, 2, centroids, cluster_assignment)"
      ],
      "metadata": {
        "colab": {
          "base_uri": "https://localhost:8080/"
        },
        "id": "cQVTf2FqB9lt",
        "outputId": "01578867-04cb-45b2-d89f-080d29d8e687"
      },
      "execution_count": 19,
      "outputs": [
        {
          "output_type": "execute_result",
          "data": {
            "text/plain": [
              "7.25"
            ]
          },
          "metadata": {},
          "execution_count": 19
        }
      ]
    },
    {
      "cell_type": "code",
      "source": [
        "# Fill in the blanks\n",
        "def kmeans(data, k, initial_centroids, maxiter, record_heterogeneity=None, verbose=False):\n",
        "    '''This function runs k-means on given data and initial set of centroids.\n",
        "       maxiter: maximum number of iterations to run.\n",
        "       record_heterogeneity: (optional) a list, to store the history of heterogeneity as function of iterations\n",
        "                             if None, do not store the history.\n",
        "       verbose: if True, print how many data points changed their cluster labels in each iteration'''\n",
        "    centroids = initial_centroids[:]\n",
        "    prev_cluster_assignment = None\n",
        "    \n",
        "    for itr in range(maxiter):        \n",
        "        if verbose:\n",
        "            print(itr)\n",
        "        \n",
        "        # 1. Make cluster assignments using nearest centroids\n",
        "        # YOUR CODE HERE\n",
        "        cluster_assignment = assign_clusters(data, centroids)\n",
        "            \n",
        "        # 2. Compute a new centroid for each of the k clusters, averaging all data points assigned to that cluster.\n",
        "        # YOUR CODE HERE\n",
        "        centroids = revise_centroids(data, k, cluster_assignment)\n",
        "            \n",
        "        # Check for convergence: if none of the assignments changed, stop\n",
        "        if prev_cluster_assignment is not None and \\\n",
        "          (prev_cluster_assignment==cluster_assignment).all():\n",
        "            break\n",
        "        \n",
        "        # Print number of new assignments \n",
        "        if prev_cluster_assignment is not None:\n",
        "            num_changed = np.sum(prev_cluster_assignment!=cluster_assignment)\n",
        "            if verbose:\n",
        "                print('    {0:5d} elements changed their cluster assignment.'.format(num_changed))   \n",
        "        \n",
        "        # Record heterogeneity convergence metric\n",
        "        if record_heterogeneity is not None:\n",
        "            # YOUR CODE HERE\n",
        "            score = compute_heterogeneity(data, k, centroids, cluster_assignment)\n",
        "            record_heterogeneity.append(score)\n",
        "        \n",
        "        prev_cluster_assignment = cluster_assignment[:]\n",
        "        \n",
        "    return centroids, cluster_assignment"
      ],
      "metadata": {
        "id": "_QZv6m_OCAtl"
      },
      "execution_count": 20,
      "outputs": []
    },
    {
      "cell_type": "code",
      "source": [
        "import matplotlib.pyplot as plt"
      ],
      "metadata": {
        "id": "GLKgpUKnCAqF"
      },
      "execution_count": 21,
      "outputs": []
    },
    {
      "cell_type": "code",
      "source": [
        "def plot_heterogeneity(heterogeneity, k):\n",
        "    plt.figure(figsize=(7,4))\n",
        "    plt.plot(heterogeneity, linewidth=4)\n",
        "    plt.xlabel('# Iterations')\n",
        "    plt.ylabel('Heterogeneity')\n",
        "    plt.title('Heterogeneity of clustering over time, K={0:d}'.format(k))\n",
        "    plt.rcParams.update({'font.size': 16})\n",
        "    plt.tight_layout()"
      ],
      "metadata": {
        "id": "yw8BMj-kCAnH"
      },
      "execution_count": 22,
      "outputs": []
    },
    {
      "cell_type": "code",
      "source": [
        "k = 3\n",
        "heterogeneity = []\n",
        "initial_centroids = get_initial_centroids(data_tfidf, k, seed=0)\n",
        "centroids, cluster_assignment = kmeans(data_tfidf, k, initial_centroids, maxiter=400,\n",
        "                                       record_heterogeneity=heterogeneity, verbose=True)\n",
        "plot_heterogeneity(heterogeneity, k)"
      ],
      "metadata": {
        "colab": {
          "base_uri": "https://localhost:8080/",
          "height": 1000
        },
        "id": "UIMFrbFmCAkG",
        "outputId": "2fa0b269-0f5e-49a5-b27a-407621e0c9d3"
      },
      "execution_count": 23,
      "outputs": [
        {
          "output_type": "stream",
          "name": "stdout",
          "text": [
            "0\n",
            "1\n",
            "      785 elements changed their cluster assignment.\n",
            "2\n",
            "      452 elements changed their cluster assignment.\n",
            "3\n",
            "      216 elements changed their cluster assignment.\n",
            "4\n",
            "      121 elements changed their cluster assignment.\n",
            "5\n",
            "       74 elements changed their cluster assignment.\n",
            "6\n",
            "       38 elements changed their cluster assignment.\n",
            "7\n",
            "       25 elements changed their cluster assignment.\n",
            "8\n",
            "       22 elements changed their cluster assignment.\n",
            "9\n",
            "       17 elements changed their cluster assignment.\n",
            "10\n",
            "       16 elements changed their cluster assignment.\n",
            "11\n",
            "       11 elements changed their cluster assignment.\n",
            "12\n",
            "        7 elements changed their cluster assignment.\n",
            "13\n",
            "        4 elements changed their cluster assignment.\n",
            "14\n",
            "        5 elements changed their cluster assignment.\n",
            "15\n",
            "        3 elements changed their cluster assignment.\n",
            "16\n",
            "        2 elements changed their cluster assignment.\n",
            "17\n",
            "        3 elements changed their cluster assignment.\n",
            "18\n",
            "        1 elements changed their cluster assignment.\n",
            "19\n",
            "        1 elements changed their cluster assignment.\n",
            "20\n",
            "        1 elements changed their cluster assignment.\n",
            "21\n"
          ]
        },
        {
          "output_type": "display_data",
          "data": {
            "text/plain": [
              "<Figure size 504x288 with 1 Axes>"
            ],
            "image/png": "[encoded data removed]"
          },
          "metadata": {
            "needs_background": "light"
          }
        }
      ]
    },
    {
      "cell_type": "code",
      "source": [
        "import sys\n",
        "k = 10\n",
        "heterogeneity = {}\n",
        "import time\n",
        "start = time.time()\n",
        "try:\n",
        "  for seed in [0, 20000, 40000, 60000, 80000, 100000, 120000]:\n",
        "    initial_centroids = get_initial_centroids(data_tfidf, k, seed)\n",
        "    centroids, cluster_assignment = kmeans(data_tfidf, k, initial_centroids, maxiter=400,\n",
        "                                           record_heterogeneity=None, verbose=False)\n",
        "    # To save time, compute heterogeneity only once in the end\n",
        "    heterogeneity[seed] = compute_heterogeneity(data_tfidf, k, centroids, cluster_assignment)\n",
        "    print('seed={0:06d}, heterogeneity={1:.5f}'.format(seed, heterogeneity[seed]))\n",
        "    sys.stdout.flush()\n",
        "except:\n",
        "  pass\n",
        "end = time.time()\n",
        "print(end-start)"
      ],
      "metadata": {
        "colab": {
          "base_uri": "https://localhost:8080/"
        },
        "id": "RXwhHoJzCAhU",
        "outputId": "6db866ba-67f1-4dad-c768-df634f84508d"
      },
      "execution_count": 24,
      "outputs": [
        {
          "output_type": "stream",
          "name": "stdout",
          "text": [
            "seed=000000, heterogeneity=3005.81526\n",
            "seed=020000, heterogeneity=3008.10874\n",
            "seed=040000, heterogeneity=3045.28692\n",
            "seed=060000, heterogeneity=3044.03155\n",
            "seed=080000, heterogeneity=3010.36519\n",
            "6.186365365982056\n"
          ]
        }
      ]
    }
  ]
}